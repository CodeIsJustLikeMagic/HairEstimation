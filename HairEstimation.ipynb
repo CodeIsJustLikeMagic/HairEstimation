{
 "cells": [
  {
   "cell_type": "code",
   "execution_count": 71,
   "metadata": {},
   "outputs": [],
   "source": [
    "import cv2\n",
    "import numpy as np\n",
    "from matplotlib import pyplot as plt\n",
    "\n",
    "def show(title, image):\n",
    "    height = image.shape[0]\n",
    "    width = image.shape[1]\n",
    "    #image = cv2.resize(image, (width, height))\n",
    "    image = cv2.resize(image, (int(width*0.4), int(height*0.4)))\n",
    "    cv2.imshow(title, image)\n",
    "def found(img):\n",
    "    #red_channel = img[:,:,1]\n",
    "    sum = np.count_nonzero(img == 255)\n",
    "    all = np.size(img)\n",
    "    \n",
    "    print('hairpixels:',sum)\n",
    "    print('imagepixels:',all,' should be: ', img.shape[0]*img.shape[1])\n",
    "    print('percentage:', (sum/all)*100)\n",
    "    \n",
    "    return sum\n",
    "def process(path):\n",
    "    img = cv2.imread(path)\n",
    "    gray = cv2.cvtColor(img, cv2.COLOR_BGR2GRAY)\n",
    "    kernel = np.ones((3,3), np.uint8)\n",
    "    edges = cv2.Canny(gray,40,200,kernel)\n",
    "    \n",
    "    #hmmm I dont like dilate and erosion. gives way to many hairs.\n",
    "    #img_dilation = cv2.dilate(edges, kernel, iterations =1)\n",
    "    #img_erosion = cv2.erode(img_dilation, kernel, iterations = 1)\n",
    "    \n",
    "    #show('original', img)\n",
    "    #show('canny', edges)\n",
    "    #show('dilation', img_dilation)\n",
    "    #show('erode', img_erosion)\n",
    "    #show('inversion', image)\n",
    "    cv2.waitKey(0)\n",
    "    cv2.destroyAllWindows()\n",
    "    return img, edges"
   ]
  },
  {
   "cell_type": "code",
   "execution_count": 96,
   "metadata": {},
   "outputs": [],
   "source": [
    "def intensity(orig, edges):\n",
    "    \n",
    "    print('hi')\n",
    "    binary = np.ones(img.shape[:2], dtype=\"uint8\")\n",
    "    binary[:,:] = (img != 0) # 0 or 1 depending on wehter it is ==0\n",
    "    #where binary = 1 \n",
    "    intensity = binary * orig\n",
    "    show('intensity',intensity)\n",
    "    cv2.waitKey(0)\n",
    "    cv2.destroyAllWindows()"
   ]
  },
  {
   "cell_type": "code",
   "execution_count": 97,
   "metadata": {},
   "outputs": [],
   "source": [
    "def dectect(path):\n",
    "    orig,img = process(path)\n",
    "    found(img)\n",
    "    intensity(img,img)\n",
    "    return orig,img"
   ]
  },
  {
   "cell_type": "code",
   "execution_count": 98,
   "metadata": {},
   "outputs": [
    {
     "name": "stdout",
     "output_type": "stream",
     "text": [
      "hairpixels: 104085\n",
      "imagepixels: 5857280  should be:  5857280\n",
      "percentage: 1.7770193673513988\n"
     ]
    }
   ],
   "source": [
    "orig,img = detect('HairTest1_18Hairs.png')"
   ]
  },
  {
   "cell_type": "code",
   "execution_count": 80,
   "metadata": {},
   "outputs": [
    {
     "name": "stdout",
     "output_type": "stream",
     "text": [
      "hairpixels: 114670\n",
      "imagepixels: 12192768  should be:  12192768\n",
      "percentage: 0.9404755343495422\n"
     ]
    }
   ],
   "source": [
    "orig,img = detect('Mummel_6_long.jpg')"
   ]
  },
  {
   "cell_type": "code",
   "execution_count": 81,
   "metadata": {},
   "outputs": [
    {
     "name": "stdout",
     "output_type": "stream",
     "text": [
      "hairpixels: 120673\n",
      "imagepixels: 12192768  should be:  12192768\n",
      "percentage: 0.98970963771311\n"
     ]
    }
   ],
   "source": [
    "orig,img = detect('Mummel_12_long_dense.jpg')"
   ]
  },
  {
   "cell_type": "code",
   "execution_count": 82,
   "metadata": {},
   "outputs": [
    {
     "name": "stdout",
     "output_type": "stream",
     "text": [
      "hairpixels: 154968\n",
      "imagepixels: 12192768  should be:  12192768\n",
      "percentage: 1.2709829302091207\n"
     ]
    }
   ],
   "source": [
    "orig,img = detect('Mummel_12_long_loose.jpg')"
   ]
  },
  {
   "cell_type": "code",
   "execution_count": 83,
   "metadata": {},
   "outputs": [
    {
     "name": "stdout",
     "output_type": "stream",
     "text": [
      "hairpixels: 10539\n",
      "imagepixels: 9204120  should be:  9204120\n",
      "percentage: 0.11450307036414127\n"
     ]
    }
   ],
   "source": [
    "orig,img = detect('Mummel_1.jpg')"
   ]
  },
  {
   "cell_type": "code",
   "execution_count": 52,
   "metadata": {},
   "outputs": [],
   "source": [
    "def diff(orig, img):\n",
    "    h = orig.shape[0]\n",
    "    w = orig.shape[1]\n",
    "    #img = cv2.cvtColor(img, cv2.COLOR_BGR2GRAY)\n",
    "    gray = cv2.cvtColor(orig, cv2.COLOR_BGR2GRAY)\n",
    "    res = orig.copy()\n",
    "    thresh = np.ones(image_in.shape[:2], dtype=\"uint8\") * 255\n",
    "    thresh[:,:] = (img != 0) # 0 or 1 depending on wehter it is ==0\n",
    "    res = 100+gray*0.2\n",
    "    \n",
    "    \n",
    "    \n",
    "    for y in range(0, h):\n",
    "        for x in range(0, w):\n",
    "            # threshold the pixel\n",
    "            colors = orig[y,x]\n",
    "            #print(img[y,x])\n",
    "            if int(img[y,x]) == 0: # if black, no hair found.\n",
    "                #lets make it a much lighter shade of the original\n",
    "                res[y, x] = 100+gray[y,x]*0.2\n",
    "            else:\n",
    "                res[y,x] = [255,0,0]#colors-100 #ahir pixel will be \n",
    "    show('original', orig)\n",
    "    show('diff', res)\n",
    "    show('gray', gray)\n",
    "    cv2.waitKey(0)\n",
    "    cv2.destroyAllWindows()"
   ]
  },
  {
   "cell_type": "code",
   "execution_count": 29,
   "metadata": {},
   "outputs": [],
   "source": []
  },
  {
   "cell_type": "code",
   "execution_count": 32,
   "metadata": {},
   "outputs": [
    {
     "name": "stdout",
     "output_type": "stream",
     "text": [
      "[[161 160 157 ... 164 159 160]\n",
      " [158 161 158 ... 163 158 161]\n",
      " [156 160 158 ... 163 158 162]\n",
      " ...\n",
      " [186 184 185 ... 128 130 129]\n",
      " [188 186 186 ... 130 132 128]\n",
      " [187 186 187 ... 132 134 126]]\n",
      "[[287.2 287.  286.4 ... 287.8 286.8 287. ]\n",
      " [286.6 287.2 286.6 ... 287.6 286.6 287.2]\n",
      " [286.2 287.  286.6 ... 287.6 286.6 287.4]\n",
      " ...\n",
      " [292.2 291.8 292.  ... 280.6 281.  280.8]\n",
      " [292.6 292.2 292.2 ... 281.  281.4 280.6]\n",
      " [292.4 292.2 292.4 ... 281.4 281.8 280.2]]\n",
      "104085\n"
     ]
    }
   ],
   "source": [
    "def diff(orig, img):\n",
    "    h = orig.shape[0]\n",
    "    w = orig.shape[1]\n",
    "    #img = cv2.cvtColor(img, cv2.COLOR_BGR2GRAY)\n",
    "    gray = cv2.cvtColor(orig, cv2.COLOR_BGR2GRAY)\n",
    "    res = orig.copy()\n",
    "    thresh = np.ones(orig.shape[:2], dtype=\"uint8\")\n",
    "    thresh[:,:] = (img != 0) # 0 or 1 depending on wehter it is ==0\n",
    "\n",
    "    print(gray)\n",
    "    gray = 255+(gray*0.2)\n",
    "    print(gray)\n",
    "    res = (100+gray*0.2)*(thresh)\n",
    "   \n",
    "    found(img)\n",
    "    \n",
    "    \n",
    "    show('gray', gray)\n",
    "    show('res', res)\n",
    "    show('original', orig)\n",
    "    show('img', img)\n",
    "    cv2.waitKey(0)\n",
    "    cv2.destroyAllWindows()\n",
    "diff(orig, img)"
   ]
  },
  {
   "cell_type": "code",
   "execution_count": 53,
   "metadata": {},
   "outputs": [],
   "source": [
    "diff(orig,img)"
   ]
  },
  {
   "cell_type": "code",
   "execution_count": 10,
   "metadata": {},
   "outputs": [],
   "source": [
    "detect('blonde on black-1.png')"
   ]
  },
  {
   "cell_type": "code",
   "execution_count": 31,
   "metadata": {},
   "outputs": [],
   "source": [
    "detect('very large hair bunch.jpg')"
   ]
  },
  {
   "cell_type": "code",
   "execution_count": 25,
   "metadata": {},
   "outputs": [
    {
     "ename": "SyntaxError",
     "evalue": "invalid syntax (<ipython-input-25-71a28675c926>, line 1)",
     "output_type": "error",
     "traceback": [
      "\u001b[1;36m  File \u001b[1;32m\"<ipython-input-25-71a28675c926>\"\u001b[1;36m, line \u001b[1;32m1\u001b[0m\n\u001b[1;33m    cpdef unsigned char[:, :] threshold_fast(int T, unsigned char [:, :] image):\u001b[0m\n\u001b[1;37m                 ^\u001b[0m\n\u001b[1;31mSyntaxError\u001b[0m\u001b[1;31m:\u001b[0m invalid syntax\n"
     ]
    }
   ],
   "source": [
    "\n",
    "cpdef unsigned char[:, :] threshold_fast(int T, unsigned char [:, :] image):\n",
    "    # set the variable extension types\n",
    "    cdef int x, y, w, h\n",
    "    \n",
    "    # grab the image dimensions\n",
    "    h = image.shape[0]\n",
    "    w = image.shape[1]\n",
    "    \n",
    "    # loop over the image\n",
    "    for y in range(0, h):\n",
    "        for x in range(0, w):\n",
    "            # threshold the pixel\n",
    "            image[y, x] = 255 if image[y, x] >= T else 0\n",
    "    \n",
    "    # return the thresholded image\n",
    "    return image"
   ]
  },
  {
   "cell_type": "code",
   "execution_count": 17,
   "metadata": {},
   "outputs": [
    {
     "ename": "ModuleNotFoundError",
     "evalue": "No module named 'cython'",
     "output_type": "error",
     "traceback": [
      "\u001b[1;31m---------------------------------------------------------------------------\u001b[0m",
      "\u001b[1;31mModuleNotFoundError\u001b[0m                       Traceback (most recent call last)",
      "\u001b[1;32m<ipython-input-17-e6ab73026724>\u001b[0m in \u001b[0;36m<module>\u001b[1;34m\u001b[0m\n\u001b[1;32m----> 1\u001b[1;33m \u001b[1;32mimport\u001b[0m \u001b[0mcython\u001b[0m\u001b[1;33m\u001b[0m\u001b[1;33m\u001b[0m\u001b[0m\n\u001b[0m",
      "\u001b[1;31mModuleNotFoundError\u001b[0m: No module named 'cython'"
     ]
    }
   ],
   "source": [
    "import cython"
   ]
  },
  {
   "cell_type": "code",
   "execution_count": 11,
   "metadata": {},
   "outputs": [
    {
     "name": "stdout",
     "output_type": "stream",
     "text": [
      "[[[159 158 167]\n",
      "  [158 157 166]\n",
      "  [155 154 163]\n",
      "  ...\n",
      "  [162 161 170]\n",
      "  [157 156 165]\n",
      "  [158 157 166]]\n",
      "\n",
      " [[156 155 164]\n",
      "  [159 158 167]\n",
      "  [156 155 164]\n",
      "  ...\n",
      "  [161 160 169]\n",
      "  [156 155 164]\n",
      "  [159 158 167]]\n",
      "\n",
      " [[154 153 162]\n",
      "  [158 157 166]\n",
      "  [156 155 164]\n",
      "  ...\n",
      "  [161 160 169]\n",
      "  [156 155 164]\n",
      "  [160 159 168]]\n",
      "\n",
      " ...\n",
      "\n",
      " [[179 188 185]\n",
      "  [177 186 183]\n",
      "  [178 187 184]\n",
      "  ...\n",
      "  [110 131 129]\n",
      "  [112 133 131]\n",
      "  [111 132 130]]\n",
      "\n",
      " [[181 190 187]\n",
      "  [179 188 185]\n",
      "  [179 188 185]\n",
      "  ...\n",
      "  [112 133 131]\n",
      "  [114 135 133]\n",
      "  [110 131 129]]\n",
      "\n",
      " [[180 189 186]\n",
      "  [179 188 185]\n",
      "  [180 189 186]\n",
      "  ...\n",
      "  [114 135 133]\n",
      "  [116 137 135]\n",
      "  [108 129 127]]]\n"
     ]
    }
   ],
   "source": [
    "print(orig)"
   ]
  },
  {
   "cell_type": "code",
   "execution_count": 23,
   "metadata": {},
   "outputs": [],
   "source": [
    "def do_things(a):\n",
    "    print(a ,\"end\")\n",
    "    return a"
   ]
  },
  {
   "cell_type": "code",
   "execution_count": 24,
   "metadata": {},
   "outputs": [
    {
     "name": "stdout",
     "output_type": "stream",
     "text": [
      "[[[159 158 167]\n",
      "  [158 157 166]\n",
      "  [155 154 163]\n",
      "  ...\n",
      "  [162 161 170]\n",
      "  [157 156 165]\n",
      "  [158 157 166]]\n",
      "\n",
      " [[156 155 164]\n",
      "  [159 158 167]\n",
      "  [156 155 164]\n",
      "  ...\n",
      "  [161 160 169]\n",
      "  [156 155 164]\n",
      "  [159 158 167]]\n",
      "\n",
      " [[154 153 162]\n",
      "  [158 157 166]\n",
      "  [156 155 164]\n",
      "  ...\n",
      "  [161 160 169]\n",
      "  [156 155 164]\n",
      "  [160 159 168]]\n",
      "\n",
      " ...\n",
      "\n",
      " [[179 188 185]\n",
      "  [177 186 183]\n",
      "  [178 187 184]\n",
      "  ...\n",
      "  [110 131 129]\n",
      "  [112 133 131]\n",
      "  [111 132 130]]\n",
      "\n",
      " [[181 190 187]\n",
      "  [179 188 185]\n",
      "  [179 188 185]\n",
      "  ...\n",
      "  [112 133 131]\n",
      "  [114 135 133]\n",
      "  [110 131 129]]\n",
      "\n",
      " [[180 189 186]\n",
      "  [179 188 185]\n",
      "  [180 189 186]\n",
      "  ...\n",
      "  [114 135 133]\n",
      "  [116 137 135]\n",
      "  [108 129 127]]] end\n"
     ]
    },
    {
     "data": {
      "text/plain": [
       "array([[[159, 158, 167],\n",
       "        [158, 157, 166],\n",
       "        [155, 154, 163],\n",
       "        ...,\n",
       "        [162, 161, 170],\n",
       "        [157, 156, 165],\n",
       "        [158, 157, 166]],\n",
       "\n",
       "       [[156, 155, 164],\n",
       "        [159, 158, 167],\n",
       "        [156, 155, 164],\n",
       "        ...,\n",
       "        [161, 160, 169],\n",
       "        [156, 155, 164],\n",
       "        [159, 158, 167]],\n",
       "\n",
       "       [[154, 153, 162],\n",
       "        [158, 157, 166],\n",
       "        [156, 155, 164],\n",
       "        ...,\n",
       "        [161, 160, 169],\n",
       "        [156, 155, 164],\n",
       "        [160, 159, 168]],\n",
       "\n",
       "       ...,\n",
       "\n",
       "       [[179, 188, 185],\n",
       "        [177, 186, 183],\n",
       "        [178, 187, 184],\n",
       "        ...,\n",
       "        [110, 131, 129],\n",
       "        [112, 133, 131],\n",
       "        [111, 132, 130]],\n",
       "\n",
       "       [[181, 190, 187],\n",
       "        [179, 188, 185],\n",
       "        [179, 188, 185],\n",
       "        ...,\n",
       "        [112, 133, 131],\n",
       "        [114, 135, 133],\n",
       "        [110, 131, 129]],\n",
       "\n",
       "       [[180, 189, 186],\n",
       "        [179, 188, 185],\n",
       "        [180, 189, 186],\n",
       "        ...,\n",
       "        [114, 135, 133],\n",
       "        [116, 137, 135],\n",
       "        [108, 129, 127]]], dtype=uint8)"
      ]
     },
     "execution_count": 24,
     "metadata": {},
     "output_type": "execute_result"
    }
   ],
   "source": [
    "import numpy as np\n",
    "example = orig\n",
    "def fast():\n",
    "     img = example.copy()\n",
    "     height, width, depth = img.shape\n",
    "     do_things(img[0:height, 0:width])\n",
    "        # DO THIS INSTEAD\n",
    "     return img \n",
    "fast()"
   ]
  },
  {
   "cell_type": "code",
   "execution_count": 3,
   "metadata": {},
   "outputs": [
    {
     "data": {
      "text/plain": [
       "array([[[0, 0, 0, ..., 0, 0, 0],\n",
       "        [0, 0, 0, ..., 0, 0, 0],\n",
       "        [0, 0, 0, ..., 0, 0, 0],\n",
       "        ...,\n",
       "        [1, 1, 1, ..., 1, 1, 1],\n",
       "        [1, 1, 1, ..., 1, 1, 1],\n",
       "        [1, 1, 1, ..., 1, 1, 1]],\n",
       "\n",
       "       [[0, 0, 0, ..., 0, 0, 0],\n",
       "        [0, 0, 0, ..., 0, 0, 0],\n",
       "        [0, 0, 0, ..., 0, 0, 0],\n",
       "        ...,\n",
       "        [1, 1, 1, ..., 1, 1, 1],\n",
       "        [1, 1, 1, ..., 1, 1, 1],\n",
       "        [1, 1, 1, ..., 1, 1, 1]],\n",
       "\n",
       "       [[0, 0, 0, ..., 0, 0, 0],\n",
       "        [0, 0, 0, ..., 0, 0, 0],\n",
       "        [0, 0, 0, ..., 0, 0, 0],\n",
       "        ...,\n",
       "        [1, 1, 1, ..., 1, 1, 1],\n",
       "        [1, 1, 1, ..., 1, 1, 1],\n",
       "        [1, 1, 1, ..., 1, 1, 1]],\n",
       "\n",
       "       ...,\n",
       "\n",
       "       [[0, 0, 0, ..., 0, 0, 0],\n",
       "        [0, 0, 0, ..., 0, 0, 0],\n",
       "        [0, 0, 0, ..., 0, 0, 0],\n",
       "        ...,\n",
       "        [1, 1, 1, ..., 1, 1, 1],\n",
       "        [1, 1, 1, ..., 1, 1, 1],\n",
       "        [1, 1, 1, ..., 1, 1, 1]],\n",
       "\n",
       "       [[0, 0, 0, ..., 0, 0, 0],\n",
       "        [0, 0, 0, ..., 0, 0, 0],\n",
       "        [0, 0, 0, ..., 0, 0, 0],\n",
       "        ...,\n",
       "        [1, 1, 1, ..., 1, 1, 1],\n",
       "        [1, 1, 1, ..., 1, 1, 1],\n",
       "        [1, 1, 1, ..., 1, 1, 1]],\n",
       "\n",
       "       [[0, 0, 0, ..., 0, 0, 0],\n",
       "        [0, 0, 0, ..., 0, 0, 0],\n",
       "        [0, 0, 0, ..., 0, 0, 0],\n",
       "        ...,\n",
       "        [1, 1, 1, ..., 1, 1, 1],\n",
       "        [1, 1, 1, ..., 1, 1, 1],\n",
       "        [1, 1, 1, ..., 1, 1, 1]]], dtype=uint8)"
      ]
     },
     "execution_count": 3,
     "metadata": {},
     "output_type": "execute_result"
    }
   ],
   "source": [
    "def slow():\n",
    "     img = example.copy()\n",
    "     height, width, depth = img.shape\n",
    "     for i in range(0, height):             #looping at python speed...\n",
    "         for j in range(0, (width//4)):     #...\n",
    "             for k in range(0,depth):       #...\n",
    "                 img[i,j,k] = 0\n",
    "     return img\n",
    "slow()"
   ]
  },
  {
   "cell_type": "code",
   "execution_count": 103,
   "metadata": {},
   "outputs": [
    {
     "name": "stdout",
     "output_type": "stream",
     "text": [
      "-13.75\n"
     ]
    }
   ],
   "source": [
    "newhigh = 255\n",
    "oldhigh = 200\n",
    "newlow = oldlow = 40\n",
    "intensity = 0\n",
    "print(newlow + ((newhigh - newlow) / (oldhigh - oldlow)) * (intensity -oldlow))"
   ]
  },
  {
   "cell_type": "code",
   "execution_count": 8,
   "metadata": {},
   "outputs": [
    {
     "data": {
      "text/plain": [
       "array([1, 3])"
      ]
     },
     "execution_count": 8,
     "metadata": {},
     "output_type": "execute_result"
    }
   ],
   "source": [
    "import numpy as np\n",
    "a = np.array([0,1,5,3,4])\n",
    "a2 = a[1::2]\n",
    "a2"
   ]
  },
  {
   "cell_type": "code",
   "execution_count": 1,
   "metadata": {},
   "outputs": [
    {
     "name": "stdout",
     "output_type": "stream",
     "text": [
      "Seed: 65, 163 0\n",
      "Seed: 229, 252 255\n",
      "Seed: 292, 252 0\n",
      "Seed: 361, 285 0\n",
      "Seed: 338, 324 0\n",
      "Seed: 351, 260 0\n",
      "Seed: 380, 220 0\n",
      "Seed: 239, 118 0\n",
      "Seed: 244, 104 255\n",
      "Seed: 167, 176 0\n"
     ]
    }
   ],
   "source": [
    "#https://stackoverflow.com/questions/43923648/region-growing-python\n",
    "import cv2\n",
    "import numpy as np\n",
    "\n",
    "def get8n(x, y, shape):\n",
    "    out = []\n",
    "    maxx = shape[1]-1\n",
    "    maxy = shape[0]-1\n",
    "\n",
    "    #top left\n",
    "    outx = min(max(x-1,0),maxx)\n",
    "    outy = min(max(y-1,0),maxy)\n",
    "    out.append((outx,outy))\n",
    "\n",
    "    #top center\n",
    "    outx = x\n",
    "    outy = min(max(y-1,0),maxy)\n",
    "    out.append((outx,outy))\n",
    "\n",
    "    #top right\n",
    "    outx = min(max(x+1,0),maxx)\n",
    "    outy = min(max(y-1,0),maxy)\n",
    "    out.append((outx,outy))\n",
    "\n",
    "    #left\n",
    "    outx = min(max(x-1,0),maxx)\n",
    "    outy = y\n",
    "    out.append((outx,outy))\n",
    "\n",
    "    #right\n",
    "    outx = min(max(x+1,0),maxx)\n",
    "    outy = y\n",
    "    out.append((outx,outy))\n",
    "\n",
    "    #bottom left\n",
    "    outx = min(max(x-1,0),maxx)\n",
    "    outy = min(max(y+1,0),maxy)\n",
    "    out.append((outx,outy))\n",
    "\n",
    "    #bottom center\n",
    "    outx = x\n",
    "    outy = min(max(y+1,0),maxy)\n",
    "    out.append((outx,outy))\n",
    "\n",
    "    #bottom right\n",
    "    outx = min(max(x+1,0),maxx)\n",
    "    outy = min(max(y+1,0),maxy)\n",
    "    out.append((outx,outy))\n",
    "\n",
    "    return out\n",
    "\n",
    "def region_growing(img, seed):\n",
    "    list = []\n",
    "    outimg = np.zeros_like(img)\n",
    "    list.append((seed[0], seed[1]))\n",
    "    processed = []\n",
    "    while(len(list) > 0):\n",
    "        pix = list[0]\n",
    "        outimg[pix[0], pix[1]] = 255\n",
    "        for coord in get8n(pix[0], pix[1], img.shape):\n",
    "            if img[coord[0], coord[1]] != 0:\n",
    "                outimg[coord[0], coord[1]] = 255\n",
    "                if not coord in processed:\n",
    "                    list.append(coord)\n",
    "                processed.append(coord)\n",
    "        list.pop(0)\n",
    "        cv2.imshow(\"progress\",outimg)\n",
    "        cv2.waitKey(1)\n",
    "    return outimg\n",
    "\n",
    "def on_mouse(event, x, y, flags, params):\n",
    "    if event == cv2.EVENT_LBUTTONDOWN:\n",
    "        print ('Seed: ' + str(x) + ', ' + str(y), img[y,x])\n",
    "        clicks.append((y,x))\n",
    "\n",
    "clicks = []\n",
    "image = cv2.imread('canny.png', 0)\n",
    "ret, img = cv2.threshold(image, 128, 255, cv2.THRESH_BINARY)\n",
    "cv2.namedWindow('Input')\n",
    "cv2.setMouseCallback('Input', on_mouse, 0, )\n",
    "cv2.imshow('Input', img)\n",
    "cv2.waitKey()\n",
    "seed = clicks[-1]\n",
    "out = region_growing(img, seed)\n",
    "cv2.imshow('Region Growing', out)\n",
    "cv2.waitKey()\n",
    "cv2.destroyAllWindows()"
   ]
  },
  {
   "cell_type": "code",
   "execution_count": 3,
   "metadata": {},
   "outputs": [
    {
     "ename": "TypeError",
     "evalue": "data type not understood",
     "output_type": "error",
     "traceback": [
      "\u001b[1;31m---------------------------------------------------------------------------\u001b[0m",
      "\u001b[1;31mTypeError\u001b[0m                                 Traceback (most recent call last)",
      "\u001b[1;32m<ipython-input-3-264b372e97f0>\u001b[0m in \u001b[0;36m<module>\u001b[1;34m\u001b[0m\n\u001b[0;32m      1\u001b[0m \u001b[1;32mimport\u001b[0m \u001b[0mnumpy\u001b[0m \u001b[1;32mas\u001b[0m \u001b[0mnp\u001b[0m\u001b[1;33m\u001b[0m\u001b[1;33m\u001b[0m\u001b[0m\n\u001b[1;32m----> 2\u001b[1;33m \u001b[0mdata\u001b[0m \u001b[1;33m=\u001b[0m \u001b[0mnp\u001b[0m\u001b[1;33m.\u001b[0m\u001b[0marray\u001b[0m\u001b[1;33m(\u001b[0m\u001b[1;33m[\u001b[0m\u001b[1;34m'intensitySum'\u001b[0m\u001b[1;33m]\u001b[0m\u001b[1;33m,\u001b[0m\u001b[1;33m[\u001b[0m\u001b[1;34m'hairpixels'\u001b[0m\u001b[1;33m]\u001b[0m\u001b[1;33m)\u001b[0m\u001b[1;33m\u001b[0m\u001b[1;33m\u001b[0m\u001b[0m\n\u001b[0m\u001b[0;32m      3\u001b[0m \u001b[0mprint\u001b[0m\u001b[1;33m(\u001b[0m\u001b[0mdata\u001b[0m\u001b[1;33m)\u001b[0m\u001b[1;33m\u001b[0m\u001b[1;33m\u001b[0m\u001b[0m\n",
      "\u001b[1;31mTypeError\u001b[0m: data type not understood"
     ]
    }
   ],
   "source": [
    "import numpy as np\n",
    "data = np.array(['intensitySum'],['hairpixels'])\n",
    "print(data)"
   ]
  },
  {
   "cell_type": "code",
   "execution_count": 4,
   "metadata": {
    "scrolled": true
   },
   "outputs": [
    {
     "name": "stdout",
     "output_type": "stream",
     "text": [
      "[[1 2 3]\n",
      " [1 2 3]]\n",
      "[1 2 3]\n"
     ]
    }
   ],
   "source": [
    "np_array_1s = np.array([[1,2,3],[1,2,3]])\n",
    "print(np_array_1s)\n",
    "print(np_array_1s[1])"
   ]
  },
  {
   "cell_type": "code",
   "execution_count": 12,
   "metadata": {},
   "outputs": [
    {
     "name": "stdout",
     "output_type": "stream",
     "text": [
      "[2.43675004e+00 5.54202668e+03]\n"
     ]
    }
   ],
   "source": [
    "a = np.array([8.74611600e+06, 5.87693672e+01, 1.48821000e+05, 6.10735600e+06,\n",
    " 2.43675004e+00, 6.10735600e+06, 1.53000000e+02, 1.51000000e+02,\n",
    " 5.57416300e+06, 9.12696591e-01, 5.33193000e+05, 3.53107947e+03,\n",
    " 5.78168273e-04, 3.07140597e+07,5.54202668e+03, 2.48154810e+07,\n",
    "])\n",
    "b = a[4::10]\n",
    "print(b)"
   ]
  },
  {
   "cell_type": "code",
   "execution_count": 6,
   "metadata": {},
   "outputs": [
    {
     "name": "stdout",
     "output_type": "stream",
     "text": [
      "50\n",
      "0.11867244896097898\n"
     ]
    },
    {
     "data": {
      "image/png": "[encoded data removed]",
      "text/plain": [
       "<Figure size 432x288 with 1 Axes>"
      ]
     },
     "metadata": {
      "needs_background": "light"
     },
     "output_type": "display_data"
    }
   ],
   "source": [
    "from matplotlib.pyplot import subplots\n",
    "from numpy import linspace, random, sin, cos\n",
    "from scipy import interpolate\n",
    "import numpy as np\n",
    "\n",
    "x = linspace(0, 10)\n",
    "\n",
    "y = sin(x * .5) + cos (x * 2)  + random.randn(x.size) * 1e-1\n",
    "# fit spline\n",
    "print(np.size(x))\n",
    "spl = interpolate.InterpolatedUnivariateSpline(x, y)\n",
    "fitx = linspace(0, x.max(), 100)\n",
    "\n",
    "fig, ax = subplots()\n",
    "ax.scatter(x, y)\n",
    "\n",
    "ax.plot(fitx, spl(fitx))\n",
    "print(spl(2))"
   ]
  },
  {
   "cell_type": "code",
   "execution_count": null,
   "metadata": {},
   "outputs": [],
   "source": []
  }
 ],
 "metadata": {
  "kernelspec": {
   "display_name": "Python 3",
   "language": "python",
   "name": "python3"
  },
  "language_info": {
   "codemirror_mode": {
    "name": "ipython",
    "version": 3
   },
   "file_extension": ".py",
   "mimetype": "text/x-python",
   "name": "python",
   "nbconvert_exporter": "python",
   "pygments_lexer": "ipython3",
   "version": "3.7.4"
  }
 },
 "nbformat": 4,
 "nbformat_minor": 2
}
